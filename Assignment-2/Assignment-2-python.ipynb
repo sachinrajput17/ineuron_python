{
 "cells": [
  {
   "cell_type": "markdown",
   "metadata": {},
   "source": [
    "## Assignment-2"
   ]
  },
  {
   "cell_type": "markdown",
   "metadata": {},
   "source": [
    "### Task 1:\n",
    "\n",
    "##### 1.1\n",
    "Write a Python Program to implement your own myreduce() function which works exactly like\n",
    "Python's built-in function reduce()"
   ]
  },
  {
   "cell_type": "code",
   "execution_count": 1,
   "metadata": {},
   "outputs": [
    {
     "name": "stdout",
     "output_type": "stream",
     "text": [
      "Multiplication of all alements of data_list : 40824\n",
      "Addition of all alements of data_list : 37\n"
     ]
    }
   ],
   "source": [
    "# myreduce function\n",
    "def myreduce(function,data):\n",
    "    \n",
    "    output = data[0]\n",
    "     # iteration   on remaining sequence items \n",
    "    for i in data[1:]:\n",
    "        output = function(output,i)\n",
    "    return output    # return output\n",
    "\n",
    "# two numbers multiplication function\n",
    "def mult(x,y):\n",
    "    return x*y\n",
    "\n",
    "# two numbers addition function\n",
    "def add(x,y):\n",
    "    return x+y\n",
    "           \n",
    "\n",
    "data_list = [2,3,6,3,1,9,6,7]\n",
    "\n",
    "print(\"Multiplication of all alements of data_list :\",myreduce(mult,data_list))\n",
    "print(\"Addition of all alements of data_list :\",myreduce(add,data_list))"
   ]
  },
  {
   "cell_type": "markdown",
   "metadata": {},
   "source": [
    "##### 1.2\n",
    "Write a Python program to implement your own myfilter() function which works exactly like\n",
    "Python's built-in function filter()"
   ]
  },
  {
   "cell_type": "code",
   "execution_count": 2,
   "metadata": {},
   "outputs": [
    {
     "name": "stdout",
     "output_type": "stream",
     "text": [
      "Elements grater than 5 in list : [7, 9, 56, 23, 7, 12, 15]\n",
      "Even numbers in  the list :  [2, 4, 2, 56, 0, -4, 12]\n"
     ]
    }
   ],
   "source": [
    "def myfilter(function,data):\n",
    "    # An empty list\n",
    "    out=[]\n",
    "    for i in data:\n",
    "        #If  condition applied on item is True  append the item of sequence in  out list.\n",
    "        if function(i)==True:\n",
    "            out.append(i)\n",
    "    #return out as a list\n",
    "    return out    \n",
    "list_=[2,4,7,9,2,56,23,0,7,-3,-4,12,15]\n",
    "\n",
    "print(\"Elements grater than 5 in list :\", myfilter(lambda x :x>5,list_))\n",
    "print(\"Even numbers in  the list : \", myfilter(lambda x: x%2 !=1, list_))"
   ]
  },
  {
   "cell_type": "raw",
   "metadata": {},
   "source": [
    "2.\n",
    "Implement List comprehensions to produce the following lists.\n",
    "Write List comprehensions to produce the following Lists\n",
    "['A', 'C', 'A', 'D', 'G', 'I', ’L’, ‘ D’]\n",
    "['x', 'xx', 'xxx', 'xxxx', 'y', 'yy', 'yyy', 'yyyy', 'z', 'zz', 'zzz', 'zzzz']\n",
    "['x', 'y', 'z', 'xx', 'yy', 'zz', 'xx', 'yy', 'zz', 'xxxx', 'yyyy', 'zzzz']\n",
    "[[2], [3], [4], [3], [4], [5], [4], [5], [6]]\n",
    "[[2, 3, 4, 5], [3, 4, 5, 6], [4, 5, 6, 7], [5, 6, 7, 8]]\n",
    "[(1, 1), (2, 1), (3, 1), (1, 2), (2, 2), (3, 2), (1, 3), (2, 3), (3, 3)]"
   ]
  },
  {
   "cell_type": "code",
   "execution_count": 3,
   "metadata": {},
   "outputs": [
    {
     "data": {
      "text/plain": [
       "['A', 'C', 'A', 'D', 'G', 'I', 'L', 'D']"
      ]
     },
     "execution_count": 3,
     "metadata": {},
     "output_type": "execute_result"
    }
   ],
   "source": [
    "# List 1\n",
    "list1 = [i for i in \"ACADGILD\" ]\n",
    "list1"
   ]
  },
  {
   "cell_type": "code",
   "execution_count": 4,
   "metadata": {},
   "outputs": [
    {
     "data": {
      "text/plain": [
       "['x', 'xx', 'xxx', 'xxxx', 'y', 'yy', 'yyy', 'yyyy', 'z', 'zz', 'zzz', 'zzzz']"
      ]
     },
     "execution_count": 4,
     "metadata": {},
     "output_type": "execute_result"
    }
   ],
   "source": [
    "list2 = [i*j for i in ['x', 'y', 'z'] for j in [1,2,3,4]]\n",
    "list2"
   ]
  },
  {
   "cell_type": "code",
   "execution_count": 5,
   "metadata": {},
   "outputs": [
    {
     "data": {
      "text/plain": [
       "['x', 'y', 'z', 'xx', 'yy', 'zz', 'xxx', 'yyy', 'zzz']"
      ]
     },
     "execution_count": 5,
     "metadata": {},
     "output_type": "execute_result"
    }
   ],
   "source": [
    "list3=[i*j for i in [1,2,3] for j in ['x','y','z']]\n",
    "list3"
   ]
  },
  {
   "cell_type": "code",
   "execution_count": 6,
   "metadata": {},
   "outputs": [
    {
     "data": {
      "text/plain": [
       "[[2], [3], [4], [3], [4], [5], [4], [5], [6]]"
      ]
     },
     "execution_count": 6,
     "metadata": {},
     "output_type": "execute_result"
    }
   ],
   "source": [
    "list4=[[i+j] for i in [1,2,3] for j in [1,2,3]]\n",
    "list4"
   ]
  },
  {
   "cell_type": "code",
   "execution_count": 7,
   "metadata": {},
   "outputs": [
    {
     "data": {
      "text/plain": [
       "[[2, 3, 4, 5], [3, 4, 5, 6], [4, 5, 6, 7], [5, 6, 7, 8]]"
      ]
     },
     "execution_count": 7,
     "metadata": {},
     "output_type": "execute_result"
    }
   ],
   "source": [
    "list5=[[i+j for i in [1,2,3,4]] for j in [1,2,3,4]]\n",
    "list5"
   ]
  },
  {
   "cell_type": "code",
   "execution_count": 8,
   "metadata": {},
   "outputs": [
    {
     "data": {
      "text/plain": [
       "[(1, 1), (1, 2), (1, 3), (2, 1), (2, 2), (2, 3), (3, 1), (3, 2), (3, 3)]"
      ]
     },
     "execution_count": 8,
     "metadata": {},
     "output_type": "execute_result"
    }
   ],
   "source": [
    "list6=[(i,j) for i in [1,2,3] for j in [1,2,3]]\n",
    "list6"
   ]
  },
  {
   "cell_type": "markdown",
   "metadata": {},
   "source": [
    "#### 3.\n",
    "Implement a function longestWord() that takes a list of words and returns the longest one."
   ]
  },
  {
   "cell_type": "code",
   "execution_count": 9,
   "metadata": {},
   "outputs": [
    {
     "name": "stdout",
     "output_type": "stream",
     "text": [
      "Longest word in the list of words =>  anaconda\n"
     ]
    }
   ],
   "source": [
    "def longestWord(wordlist):\n",
    "    word_len=[(len(word),word) for word in wordlist ]\n",
    "    word_len.sort()\n",
    "    word= word_len[-1][1]\n",
    "    return word\n",
    "\n",
    "wordlist=[\"python\",\"jupyter\",\"anaconda\",\"spyder\",\"pycharm\"]\n",
    "print (\"Longest word in the list of words => \", longestWord(wordlist))"
   ]
  },
  {
   "cell_type": "markdown",
   "metadata": {},
   "source": [
    "### Task 2:"
   ]
  },
  {
   "cell_type": "markdown",
   "metadata": {},
   "source": [
    "#### 1.1\n",
    "Write a Python Program(with class concepts) to find the area of the triangle using the below\n",
    "formula.  \n",
    "area = (s*(s-a)*(s-b)*(s-c)) * * 0.5\n",
    "\n",
    "Function to take the length of the sides of triangle from user should be defined in the parent\n",
    "class and function to calculate the area should be defined in subclass.\n"
   ]
  },
  {
   "cell_type": "code",
   "execution_count": 10,
   "metadata": {},
   "outputs": [
    {
     "name": "stdout",
     "output_type": "stream",
     "text": [
      "Enter Side 'a' 20\n",
      "Enter Side 'b' 15\n",
      "Enter Side 'c' 18\n",
      "You entered sides  a = 20.0, b = 15.0, c = 18.0. So  area of this Tringle is = 129.75915189303603 sq.unit\n"
     ]
    }
   ],
   "source": [
    "class Polygon():\n",
    "    def __init__(self,a,b,c):\n",
    "        self.a=a\n",
    "        self.b=b\n",
    "        self.c=c\n",
    "        \n",
    "a=float(input(\"Enter Side 'a' \"))\n",
    "b=float(input(\"Enter Side 'b' \"))\n",
    "c=float(input(\"Enter Side 'c' \"))\n",
    "    \n",
    "class Triangle(Polygon):\n",
    "    def __init__(self,a,b,c):\n",
    "        Polygon.__init__(self,a,b,c)\n",
    "    \n",
    "        \n",
    "    def area(self):\n",
    "        s = (a+b+c)/2\n",
    "        return (s*(s-a)*(s-b)*(s-c))** 0.5\n",
    "         \n",
    "    \n",
    "t=Triangle(a,b,c)\n",
    "area=t.area()\n",
    "print(\"You entered sides  a = {}, b = {}, c = {}. So  area of this Tringle is = {} sq.unit\".format(a,b,c,area) )"
   ]
  },
  {
   "cell_type": "markdown",
   "metadata": {},
   "source": [
    "#### 1.2\n",
    "Write a function filter_long_words() that takes a list of words and an integer n and returns the list\n",
    "of words that are longer than n."
   ]
  },
  {
   "cell_type": "code",
   "execution_count": 11,
   "metadata": {},
   "outputs": [
    {
     "data": {
      "text/plain": [
       "['jupyter', 'anaconda', 'Ipython', 'pycharm']"
      ]
     },
     "execution_count": 11,
     "metadata": {},
     "output_type": "execute_result"
    }
   ],
   "source": [
    "def filter_long_words(words, n):\n",
    "    return filter(lambda x: len(x) > n, words)\n",
    "\n",
    "\n",
    "word_list=['python', 'jupyter', 'anaconda','Ipython', 'spyder', 'IDE','pycharm']\n",
    "list(filter_long_words(word_list,6))"
   ]
  },
  {
   "cell_type": "markdown",
   "metadata": {},
   "source": [
    "#### 2.1\n",
    "Write a Python program using function concept that maps list of words into a list of integers\n",
    "representing the lengths of the corresponding words .\n",
    "\n",
    "Hint: If a list [ ab,cde,erty] is passed on to the python function output should come as [2,3,4]\n",
    "Here 2,3 and 4 are the lengths of the words in the list"
   ]
  },
  {
   "cell_type": "code",
   "execution_count": 12,
   "metadata": {},
   "outputs": [
    {
     "name": "stdout",
     "output_type": "stream",
     "text": [
      " Lenghts of the words in- ['ab', 'cde', 'erty'] are : [2, 3, 4]\n",
      " Lenghts of the words in- ['python', 'jupyter', 'anaconda', 'spyder', 'pycharm'] are : [6, 7, 8, 6, 7]\n"
     ]
    }
   ],
   "source": [
    "def map_word_lenght(words_list):\n",
    "    word_len=[len(word) for word in words_list]\n",
    "    return word_len\n",
    "\n",
    "words=[\"ab\",\"cde\",\"erty\"]\n",
    "print(' Lenghts of the words in- {} are : {}'.format(words,map_word_lenght(words)))\n",
    "\n",
    "word_list=[\"python\",\"jupyter\",\"anaconda\",\"spyder\",\"pycharm\"]\n",
    "print(' Lenghts of the words in- {} are : {}'.format(word_list,map_word_lenght(word_list)))"
   ]
  },
  {
   "cell_type": "markdown",
   "metadata": {},
   "source": [
    "#### 2.2\n",
    "Write a Python function which takes a character (i.e. a string of length 1) and returns True if it is\n",
    "a vowel, False otherwise."
   ]
  },
  {
   "cell_type": "code",
   "execution_count": 13,
   "metadata": {},
   "outputs": [
    {
     "name": "stdout",
     "output_type": "stream",
     "text": [
      "'a' is vowel:  True\n",
      "'z' is vowel:  False\n",
      "'i' is vowel:  True\n",
      "'7' is vowel:  False\n"
     ]
    }
   ],
   "source": [
    "def is_vowel(character):\n",
    "    vowels=[\"a\",\"e\",\"i\",\"o\",\"u\"]\n",
    "    if character in vowels:\n",
    "        return True\n",
    "    else:\n",
    "        return False\n",
    "        \n",
    "print(\"'a' is vowel: \", is_vowel('a'))\n",
    "print(\"'z' is vowel: \", is_vowel('z'))\n",
    "print(\"'i' is vowel: \", is_vowel('i'))\n",
    "print(\"'7' is vowel: \", is_vowel('7'))"
   ]
  },
  {
   "cell_type": "code",
   "execution_count": null,
   "metadata": {},
   "outputs": [],
   "source": []
  }
 ],
 "metadata": {
  "kernelspec": {
   "display_name": "Python 3",
   "language": "python",
   "name": "python3"
  },
  "language_info": {
   "codemirror_mode": {
    "name": "ipython",
    "version": 3
   },
   "file_extension": ".py",
   "mimetype": "text/x-python",
   "name": "python",
   "nbconvert_exporter": "python",
   "pygments_lexer": "ipython3",
   "version": "3.7.3"
  }
 },
 "nbformat": 4,
 "nbformat_minor": 2
}
